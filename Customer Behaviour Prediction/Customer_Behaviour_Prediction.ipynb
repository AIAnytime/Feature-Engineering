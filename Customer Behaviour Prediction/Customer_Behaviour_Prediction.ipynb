{
  "nbformat": 4,
  "nbformat_minor": 0,
  "metadata": {
    "colab": {
      "name": "Customer Behaviour Prediction.ipynb",
      "provenance": []
    },
    "kernelspec": {
      "name": "python3",
      "display_name": "Python 3"
    }
  },
  "cells": [
    {
      "cell_type": "code",
      "metadata": {
        "id": "Jq2bZura6Feu"
      },
      "source": [
        "import pandas as pd\n",
        "import numpy as np\n",
        "import matplotlib.pyplot as plt\n",
        "%matplotlib inline\n",
        "from sklearn.preprocessing import StandardScaler\n",
        "from sklearn.linear_model import LogisticRegression\n",
        "from sklearn.model_selection import train_test_split"
      ],
      "execution_count": 1,
      "outputs": []
    },
    {
      "cell_type": "code",
      "metadata": {
        "id": "E-aj4zwE7aua"
      },
      "source": [
        "data = pd.read_csv(\"drive/My Drive/Colab Notebooks/Customer_Behaviour.csv\")"
      ],
      "execution_count": 2,
      "outputs": []
    },
    {
      "cell_type": "code",
      "metadata": {
        "colab": {
          "base_uri": "https://localhost:8080/",
          "height": 419
        },
        "id": "_9yncnQz7j8l",
        "outputId": "cc74e7dd-ee16-4035-b037-8366692572a9"
      },
      "source": [
        "data"
      ],
      "execution_count": 3,
      "outputs": [
        {
          "output_type": "execute_result",
          "data": {
            "text/html": [
              "<div>\n",
              "<style scoped>\n",
              "    .dataframe tbody tr th:only-of-type {\n",
              "        vertical-align: middle;\n",
              "    }\n",
              "\n",
              "    .dataframe tbody tr th {\n",
              "        vertical-align: top;\n",
              "    }\n",
              "\n",
              "    .dataframe thead th {\n",
              "        text-align: right;\n",
              "    }\n",
              "</style>\n",
              "<table border=\"1\" class=\"dataframe\">\n",
              "  <thead>\n",
              "    <tr style=\"text-align: right;\">\n",
              "      <th></th>\n",
              "      <th>User ID</th>\n",
              "      <th>Gender</th>\n",
              "      <th>Age</th>\n",
              "      <th>EstimatedSalary</th>\n",
              "      <th>Purchased</th>\n",
              "    </tr>\n",
              "  </thead>\n",
              "  <tbody>\n",
              "    <tr>\n",
              "      <th>0</th>\n",
              "      <td>15624510</td>\n",
              "      <td>Male</td>\n",
              "      <td>19</td>\n",
              "      <td>19000</td>\n",
              "      <td>0</td>\n",
              "    </tr>\n",
              "    <tr>\n",
              "      <th>1</th>\n",
              "      <td>15810944</td>\n",
              "      <td>Male</td>\n",
              "      <td>35</td>\n",
              "      <td>20000</td>\n",
              "      <td>0</td>\n",
              "    </tr>\n",
              "    <tr>\n",
              "      <th>2</th>\n",
              "      <td>15668575</td>\n",
              "      <td>Female</td>\n",
              "      <td>26</td>\n",
              "      <td>43000</td>\n",
              "      <td>0</td>\n",
              "    </tr>\n",
              "    <tr>\n",
              "      <th>3</th>\n",
              "      <td>15603246</td>\n",
              "      <td>Female</td>\n",
              "      <td>27</td>\n",
              "      <td>57000</td>\n",
              "      <td>0</td>\n",
              "    </tr>\n",
              "    <tr>\n",
              "      <th>4</th>\n",
              "      <td>15804002</td>\n",
              "      <td>Male</td>\n",
              "      <td>19</td>\n",
              "      <td>76000</td>\n",
              "      <td>0</td>\n",
              "    </tr>\n",
              "    <tr>\n",
              "      <th>...</th>\n",
              "      <td>...</td>\n",
              "      <td>...</td>\n",
              "      <td>...</td>\n",
              "      <td>...</td>\n",
              "      <td>...</td>\n",
              "    </tr>\n",
              "    <tr>\n",
              "      <th>395</th>\n",
              "      <td>15691863</td>\n",
              "      <td>Female</td>\n",
              "      <td>46</td>\n",
              "      <td>41000</td>\n",
              "      <td>1</td>\n",
              "    </tr>\n",
              "    <tr>\n",
              "      <th>396</th>\n",
              "      <td>15706071</td>\n",
              "      <td>Male</td>\n",
              "      <td>51</td>\n",
              "      <td>23000</td>\n",
              "      <td>1</td>\n",
              "    </tr>\n",
              "    <tr>\n",
              "      <th>397</th>\n",
              "      <td>15654296</td>\n",
              "      <td>Female</td>\n",
              "      <td>50</td>\n",
              "      <td>20000</td>\n",
              "      <td>1</td>\n",
              "    </tr>\n",
              "    <tr>\n",
              "      <th>398</th>\n",
              "      <td>15755018</td>\n",
              "      <td>Male</td>\n",
              "      <td>36</td>\n",
              "      <td>33000</td>\n",
              "      <td>0</td>\n",
              "    </tr>\n",
              "    <tr>\n",
              "      <th>399</th>\n",
              "      <td>15594041</td>\n",
              "      <td>Female</td>\n",
              "      <td>49</td>\n",
              "      <td>36000</td>\n",
              "      <td>1</td>\n",
              "    </tr>\n",
              "  </tbody>\n",
              "</table>\n",
              "<p>400 rows × 5 columns</p>\n",
              "</div>"
            ],
            "text/plain": [
              "      User ID  Gender  Age  EstimatedSalary  Purchased\n",
              "0    15624510    Male   19            19000          0\n",
              "1    15810944    Male   35            20000          0\n",
              "2    15668575  Female   26            43000          0\n",
              "3    15603246  Female   27            57000          0\n",
              "4    15804002    Male   19            76000          0\n",
              "..        ...     ...  ...              ...        ...\n",
              "395  15691863  Female   46            41000          1\n",
              "396  15706071    Male   51            23000          1\n",
              "397  15654296  Female   50            20000          1\n",
              "398  15755018    Male   36            33000          0\n",
              "399  15594041  Female   49            36000          1\n",
              "\n",
              "[400 rows x 5 columns]"
            ]
          },
          "metadata": {
            "tags": []
          },
          "execution_count": 3
        }
      ]
    },
    {
      "cell_type": "code",
      "metadata": {
        "colab": {
          "base_uri": "https://localhost:8080/"
        },
        "id": "I_6CMjD-7lZB",
        "outputId": "93478686-3263-42cc-823b-f4cc611b1d5c"
      },
      "source": [
        "data.info()"
      ],
      "execution_count": 4,
      "outputs": [
        {
          "output_type": "stream",
          "text": [
            "<class 'pandas.core.frame.DataFrame'>\n",
            "RangeIndex: 400 entries, 0 to 399\n",
            "Data columns (total 5 columns):\n",
            " #   Column           Non-Null Count  Dtype \n",
            "---  ------           --------------  ----- \n",
            " 0   User ID          400 non-null    int64 \n",
            " 1   Gender           400 non-null    object\n",
            " 2   Age              400 non-null    int64 \n",
            " 3   EstimatedSalary  400 non-null    int64 \n",
            " 4   Purchased        400 non-null    int64 \n",
            "dtypes: int64(4), object(1)\n",
            "memory usage: 15.8+ KB\n"
          ],
          "name": "stdout"
        }
      ]
    },
    {
      "cell_type": "code",
      "metadata": {
        "colab": {
          "base_uri": "https://localhost:8080/",
          "height": 297
        },
        "id": "Wyqqp2IL7rnE",
        "outputId": "a22f4e4a-acab-4566-dc9b-5c62ed74e037"
      },
      "source": [
        "data.describe()"
      ],
      "execution_count": 5,
      "outputs": [
        {
          "output_type": "execute_result",
          "data": {
            "text/html": [
              "<div>\n",
              "<style scoped>\n",
              "    .dataframe tbody tr th:only-of-type {\n",
              "        vertical-align: middle;\n",
              "    }\n",
              "\n",
              "    .dataframe tbody tr th {\n",
              "        vertical-align: top;\n",
              "    }\n",
              "\n",
              "    .dataframe thead th {\n",
              "        text-align: right;\n",
              "    }\n",
              "</style>\n",
              "<table border=\"1\" class=\"dataframe\">\n",
              "  <thead>\n",
              "    <tr style=\"text-align: right;\">\n",
              "      <th></th>\n",
              "      <th>User ID</th>\n",
              "      <th>Age</th>\n",
              "      <th>EstimatedSalary</th>\n",
              "      <th>Purchased</th>\n",
              "    </tr>\n",
              "  </thead>\n",
              "  <tbody>\n",
              "    <tr>\n",
              "      <th>count</th>\n",
              "      <td>4.000000e+02</td>\n",
              "      <td>400.000000</td>\n",
              "      <td>400.000000</td>\n",
              "      <td>400.000000</td>\n",
              "    </tr>\n",
              "    <tr>\n",
              "      <th>mean</th>\n",
              "      <td>1.569154e+07</td>\n",
              "      <td>37.655000</td>\n",
              "      <td>69742.500000</td>\n",
              "      <td>0.357500</td>\n",
              "    </tr>\n",
              "    <tr>\n",
              "      <th>std</th>\n",
              "      <td>7.165832e+04</td>\n",
              "      <td>10.482877</td>\n",
              "      <td>34096.960282</td>\n",
              "      <td>0.479864</td>\n",
              "    </tr>\n",
              "    <tr>\n",
              "      <th>min</th>\n",
              "      <td>1.556669e+07</td>\n",
              "      <td>18.000000</td>\n",
              "      <td>15000.000000</td>\n",
              "      <td>0.000000</td>\n",
              "    </tr>\n",
              "    <tr>\n",
              "      <th>25%</th>\n",
              "      <td>1.562676e+07</td>\n",
              "      <td>29.750000</td>\n",
              "      <td>43000.000000</td>\n",
              "      <td>0.000000</td>\n",
              "    </tr>\n",
              "    <tr>\n",
              "      <th>50%</th>\n",
              "      <td>1.569434e+07</td>\n",
              "      <td>37.000000</td>\n",
              "      <td>70000.000000</td>\n",
              "      <td>0.000000</td>\n",
              "    </tr>\n",
              "    <tr>\n",
              "      <th>75%</th>\n",
              "      <td>1.575036e+07</td>\n",
              "      <td>46.000000</td>\n",
              "      <td>88000.000000</td>\n",
              "      <td>1.000000</td>\n",
              "    </tr>\n",
              "    <tr>\n",
              "      <th>max</th>\n",
              "      <td>1.581524e+07</td>\n",
              "      <td>60.000000</td>\n",
              "      <td>150000.000000</td>\n",
              "      <td>1.000000</td>\n",
              "    </tr>\n",
              "  </tbody>\n",
              "</table>\n",
              "</div>"
            ],
            "text/plain": [
              "            User ID         Age  EstimatedSalary   Purchased\n",
              "count  4.000000e+02  400.000000       400.000000  400.000000\n",
              "mean   1.569154e+07   37.655000     69742.500000    0.357500\n",
              "std    7.165832e+04   10.482877     34096.960282    0.479864\n",
              "min    1.556669e+07   18.000000     15000.000000    0.000000\n",
              "25%    1.562676e+07   29.750000     43000.000000    0.000000\n",
              "50%    1.569434e+07   37.000000     70000.000000    0.000000\n",
              "75%    1.575036e+07   46.000000     88000.000000    1.000000\n",
              "max    1.581524e+07   60.000000    150000.000000    1.000000"
            ]
          },
          "metadata": {
            "tags": []
          },
          "execution_count": 5
        }
      ]
    },
    {
      "cell_type": "code",
      "metadata": {
        "id": "2FhZMbKL7wlN"
      },
      "source": [
        "def preprocess_inputs(df, engineer_features=False):\n",
        "  df = df.copy()\n",
        "  #Drop User ID column\n",
        "  df = df.drop('User ID', axis=1)\n",
        "  #Binary encode gender column\n",
        "  df['Gender'] = df['Gender'].replace({\"Female\":0, \"Male\":1})\n",
        "\n",
        "  #feature engineering\n",
        "  if engineer_features == True:\n",
        "    threshold_salary = df['EstimatedSalary'].quantile(0.95)\n",
        "    df['High Income'] = df['EstimatedSalary'].apply(lambda x: 1 if x>= threshold_salary else 0)\n",
        "\n",
        "    old_age_threshold = df['Age'].quantile(0.75)\n",
        "    young_age_threshold = df['Age'].quantile(0.25)\n",
        "\n",
        "    df['Old Age'] = df['Age'].apply(lambda x:1 if x>= old_age_threshold else 0)\n",
        "    df['Young Age'] = df['Age'].apply(lambda x:1 if x <= young_age_threshold else 0)\n",
        "\n",
        "  \n",
        "\n",
        "\n",
        "\n",
        "  #Drop and Split the dataset\n",
        "  y = df['Purchased']\n",
        "  X = df.drop('Purchased', axis=1)\n",
        "\n",
        "  X_train, X_test, y_train, y_test = train_test_split(X, y, train_size=0.75, shuffle=True, random_state=42)\n",
        "  #scale the data\n",
        "  scaler = StandardScaler()\n",
        "  scaler.fit(X_train)\n",
        "  X_train = pd.DataFrame(scaler.transform(X_train), index= X_train.index, columns = X_train.columns)\n",
        "  X_test = pd.DataFrame(scaler.transform(X_test), index = X_test.index, columns = X_test.columns)\n",
        "  return X_train, X_test, y_train, y_test"
      ],
      "execution_count": 47,
      "outputs": []
    },
    {
      "cell_type": "code",
      "metadata": {
        "id": "s1xqjGpw8E23"
      },
      "source": [
        "X_train, X_test, y_train, y_test = preprocess_inputs(data, engineer_features=False)"
      ],
      "execution_count": 35,
      "outputs": []
    },
    {
      "cell_type": "code",
      "metadata": {
        "colab": {
          "base_uri": "https://localhost:8080/",
          "height": 419
        },
        "id": "BdlPKFDp8P5W",
        "outputId": "ced3f438-e7d6-4059-b0b0-ad7cbe94835f"
      },
      "source": [
        "X_train"
      ],
      "execution_count": 36,
      "outputs": [
        {
          "output_type": "execute_result",
          "data": {
            "text/html": [
              "<div>\n",
              "<style scoped>\n",
              "    .dataframe tbody tr th:only-of-type {\n",
              "        vertical-align: middle;\n",
              "    }\n",
              "\n",
              "    .dataframe tbody tr th {\n",
              "        vertical-align: top;\n",
              "    }\n",
              "\n",
              "    .dataframe thead th {\n",
              "        text-align: right;\n",
              "    }\n",
              "</style>\n",
              "<table border=\"1\" class=\"dataframe\">\n",
              "  <thead>\n",
              "    <tr style=\"text-align: right;\">\n",
              "      <th></th>\n",
              "      <th>Gender</th>\n",
              "      <th>Age</th>\n",
              "      <th>EstimatedSalary</th>\n",
              "    </tr>\n",
              "  </thead>\n",
              "  <tbody>\n",
              "    <tr>\n",
              "      <th>247</th>\n",
              "      <td>-0.986754</td>\n",
              "      <td>1.892589</td>\n",
              "      <td>1.521894</td>\n",
              "    </tr>\n",
              "    <tr>\n",
              "      <th>110</th>\n",
              "      <td>-0.986754</td>\n",
              "      <td>0.125038</td>\n",
              "      <td>0.032132</td>\n",
              "    </tr>\n",
              "    <tr>\n",
              "      <th>16</th>\n",
              "      <td>1.013423</td>\n",
              "      <td>0.910616</td>\n",
              "      <td>-1.311575</td>\n",
              "    </tr>\n",
              "    <tr>\n",
              "      <th>66</th>\n",
              "      <td>1.013423</td>\n",
              "      <td>-1.347922</td>\n",
              "      <td>-1.486841</td>\n",
              "    </tr>\n",
              "    <tr>\n",
              "      <th>153</th>\n",
              "      <td>-0.986754</td>\n",
              "      <td>-0.169554</td>\n",
              "      <td>-0.581299</td>\n",
              "    </tr>\n",
              "    <tr>\n",
              "      <th>...</th>\n",
              "      <td>...</td>\n",
              "      <td>...</td>\n",
              "      <td>...</td>\n",
              "    </tr>\n",
              "    <tr>\n",
              "      <th>71</th>\n",
              "      <td>-0.986754</td>\n",
              "      <td>-1.347922</td>\n",
              "      <td>-1.253153</td>\n",
              "    </tr>\n",
              "    <tr>\n",
              "      <th>106</th>\n",
              "      <td>-0.986754</td>\n",
              "      <td>-1.151527</td>\n",
              "      <td>-1.019465</td>\n",
              "    </tr>\n",
              "    <tr>\n",
              "      <th>270</th>\n",
              "      <td>-0.986754</td>\n",
              "      <td>0.517827</td>\n",
              "      <td>1.843215</td>\n",
              "    </tr>\n",
              "    <tr>\n",
              "      <th>348</th>\n",
              "      <td>1.013423</td>\n",
              "      <td>0.125038</td>\n",
              "      <td>0.207398</td>\n",
              "    </tr>\n",
              "    <tr>\n",
              "      <th>102</th>\n",
              "      <td>-0.986754</td>\n",
              "      <td>-0.562343</td>\n",
              "      <td>0.470297</td>\n",
              "    </tr>\n",
              "  </tbody>\n",
              "</table>\n",
              "<p>300 rows × 3 columns</p>\n",
              "</div>"
            ],
            "text/plain": [
              "       Gender       Age  EstimatedSalary\n",
              "247 -0.986754  1.892589         1.521894\n",
              "110 -0.986754  0.125038         0.032132\n",
              "16   1.013423  0.910616        -1.311575\n",
              "66   1.013423 -1.347922        -1.486841\n",
              "153 -0.986754 -0.169554        -0.581299\n",
              "..        ...       ...              ...\n",
              "71  -0.986754 -1.347922        -1.253153\n",
              "106 -0.986754 -1.151527        -1.019465\n",
              "270 -0.986754  0.517827         1.843215\n",
              "348  1.013423  0.125038         0.207398\n",
              "102 -0.986754 -0.562343         0.470297\n",
              "\n",
              "[300 rows x 3 columns]"
            ]
          },
          "metadata": {
            "tags": []
          },
          "execution_count": 36
        }
      ]
    },
    {
      "cell_type": "code",
      "metadata": {
        "colab": {
          "base_uri": "https://localhost:8080/",
          "height": 419
        },
        "id": "z8YZTJvV8Qrr",
        "outputId": "80fd5274-6c28-4920-a65a-0695264f54c0"
      },
      "source": [
        "X_test"
      ],
      "execution_count": 37,
      "outputs": [
        {
          "output_type": "execute_result",
          "data": {
            "text/html": [
              "<div>\n",
              "<style scoped>\n",
              "    .dataframe tbody tr th:only-of-type {\n",
              "        vertical-align: middle;\n",
              "    }\n",
              "\n",
              "    .dataframe tbody tr th {\n",
              "        vertical-align: top;\n",
              "    }\n",
              "\n",
              "    .dataframe thead th {\n",
              "        text-align: right;\n",
              "    }\n",
              "</style>\n",
              "<table border=\"1\" class=\"dataframe\">\n",
              "  <thead>\n",
              "    <tr style=\"text-align: right;\">\n",
              "      <th></th>\n",
              "      <th>Gender</th>\n",
              "      <th>Age</th>\n",
              "      <th>EstimatedSalary</th>\n",
              "    </tr>\n",
              "  </thead>\n",
              "  <tbody>\n",
              "    <tr>\n",
              "      <th>209</th>\n",
              "      <td>-0.986754</td>\n",
              "      <td>0.812419</td>\n",
              "      <td>-1.399208</td>\n",
              "    </tr>\n",
              "    <tr>\n",
              "      <th>280</th>\n",
              "      <td>-0.986754</td>\n",
              "      <td>2.088984</td>\n",
              "      <td>0.528719</td>\n",
              "    </tr>\n",
              "    <tr>\n",
              "      <th>33</th>\n",
              "      <td>-0.986754</td>\n",
              "      <td>-0.955132</td>\n",
              "      <td>-0.756565</td>\n",
              "    </tr>\n",
              "    <tr>\n",
              "      <th>210</th>\n",
              "      <td>-0.986754</td>\n",
              "      <td>1.008814</td>\n",
              "      <td>0.762408</td>\n",
              "    </tr>\n",
              "    <tr>\n",
              "      <th>93</th>\n",
              "      <td>-0.986754</td>\n",
              "      <td>-0.856935</td>\n",
              "      <td>-1.223942</td>\n",
              "    </tr>\n",
              "    <tr>\n",
              "      <th>...</th>\n",
              "      <td>...</td>\n",
              "      <td>...</td>\n",
              "      <td>...</td>\n",
              "    </tr>\n",
              "    <tr>\n",
              "      <th>314</th>\n",
              "      <td>-0.986754</td>\n",
              "      <td>0.125038</td>\n",
              "      <td>0.265820</td>\n",
              "    </tr>\n",
              "    <tr>\n",
              "      <th>373</th>\n",
              "      <td>1.013423</td>\n",
              "      <td>2.088984</td>\n",
              "      <td>1.755582</td>\n",
              "    </tr>\n",
              "    <tr>\n",
              "      <th>380</th>\n",
              "      <td>1.013423</td>\n",
              "      <td>0.419630</td>\n",
              "      <td>-0.172345</td>\n",
              "    </tr>\n",
              "    <tr>\n",
              "      <th>239</th>\n",
              "      <td>-0.986754</td>\n",
              "      <td>1.499800</td>\n",
              "      <td>2.135325</td>\n",
              "    </tr>\n",
              "    <tr>\n",
              "      <th>75</th>\n",
              "      <td>1.013423</td>\n",
              "      <td>-0.365949</td>\n",
              "      <td>1.229784</td>\n",
              "    </tr>\n",
              "  </tbody>\n",
              "</table>\n",
              "<p>100 rows × 3 columns</p>\n",
              "</div>"
            ],
            "text/plain": [
              "       Gender       Age  EstimatedSalary\n",
              "209 -0.986754  0.812419        -1.399208\n",
              "280 -0.986754  2.088984         0.528719\n",
              "33  -0.986754 -0.955132        -0.756565\n",
              "210 -0.986754  1.008814         0.762408\n",
              "93  -0.986754 -0.856935        -1.223942\n",
              "..        ...       ...              ...\n",
              "314 -0.986754  0.125038         0.265820\n",
              "373  1.013423  2.088984         1.755582\n",
              "380  1.013423  0.419630        -0.172345\n",
              "239 -0.986754  1.499800         2.135325\n",
              "75   1.013423 -0.365949         1.229784\n",
              "\n",
              "[100 rows x 3 columns]"
            ]
          },
          "metadata": {
            "tags": []
          },
          "execution_count": 37
        }
      ]
    },
    {
      "cell_type": "markdown",
      "metadata": {
        "id": "kehN9a3aA9D1"
      },
      "source": [
        "## Training the Model without Feature Engineering"
      ]
    },
    {
      "cell_type": "code",
      "metadata": {
        "id": "oGs1EXkq9K4W"
      },
      "source": [
        "model = LogisticRegression()\n",
        "model = model.fit(X_train, y_train)"
      ],
      "execution_count": 38,
      "outputs": []
    },
    {
      "cell_type": "code",
      "metadata": {
        "colab": {
          "base_uri": "https://localhost:8080/"
        },
        "id": "jUQoo7CJBK56",
        "outputId": "0af615d6-cc10-45e8-935c-ba6b0a3363ce"
      },
      "source": [
        "model.score(X_test, y_test)"
      ],
      "execution_count": 39,
      "outputs": [
        {
          "output_type": "execute_result",
          "data": {
            "text/plain": [
              "0.88"
            ]
          },
          "metadata": {
            "tags": []
          },
          "execution_count": 39
        }
      ]
    },
    {
      "cell_type": "code",
      "metadata": {
        "id": "IZbOfcoLBOPc"
      },
      "source": [
        "y_pred = model.predict(X_test)"
      ],
      "execution_count": 40,
      "outputs": []
    },
    {
      "cell_type": "code",
      "metadata": {
        "colab": {
          "base_uri": "https://localhost:8080/"
        },
        "id": "yD8M2_c2Bfmf",
        "outputId": "7d038a2a-c74b-4732-f457-bcd57ef231d0"
      },
      "source": [
        "y_pred"
      ],
      "execution_count": 41,
      "outputs": [
        {
          "output_type": "execute_result",
          "data": {
            "text/plain": [
              "array([0, 1, 0, 1, 0, 0, 1, 0, 0, 0, 0, 1, 0, 0, 0, 0, 1, 1, 0, 1, 0, 0,\n",
              "       0, 1, 0, 1, 1, 0, 1, 0, 0, 0, 1, 0, 1, 0, 0, 0, 0, 0, 0, 0, 0, 0,\n",
              "       0, 1, 0, 0, 1, 0, 0, 1, 0, 0, 0, 0, 1, 0, 0, 0, 0, 0, 1, 0, 0, 0,\n",
              "       1, 1, 0, 0, 1, 0, 0, 0, 0, 0, 1, 1, 0, 0, 0, 0, 1, 0, 1, 0, 0, 1,\n",
              "       0, 0, 1, 0, 0, 0, 0, 0, 1, 0, 1, 0])"
            ]
          },
          "metadata": {
            "tags": []
          },
          "execution_count": 41
        }
      ]
    },
    {
      "cell_type": "markdown",
      "metadata": {
        "id": "UU2e47K4DaNC"
      },
      "source": [
        "## Training with Feature Engineering"
      ]
    },
    {
      "cell_type": "code",
      "metadata": {
        "colab": {
          "base_uri": "https://localhost:8080/",
          "height": 419
        },
        "id": "kciVgmnjBgyz",
        "outputId": "81dfc820-3776-4d4c-c282-d1c1e56bfba7"
      },
      "source": [
        "X_train, X_test, y_train, y_test = preprocess_inputs(data, engineer_features=True)\n",
        "X_train"
      ],
      "execution_count": 48,
      "outputs": [
        {
          "output_type": "execute_result",
          "data": {
            "text/html": [
              "<div>\n",
              "<style scoped>\n",
              "    .dataframe tbody tr th:only-of-type {\n",
              "        vertical-align: middle;\n",
              "    }\n",
              "\n",
              "    .dataframe tbody tr th {\n",
              "        vertical-align: top;\n",
              "    }\n",
              "\n",
              "    .dataframe thead th {\n",
              "        text-align: right;\n",
              "    }\n",
              "</style>\n",
              "<table border=\"1\" class=\"dataframe\">\n",
              "  <thead>\n",
              "    <tr style=\"text-align: right;\">\n",
              "      <th></th>\n",
              "      <th>Gender</th>\n",
              "      <th>Age</th>\n",
              "      <th>EstimatedSalary</th>\n",
              "      <th>High Income</th>\n",
              "      <th>Old Age</th>\n",
              "      <th>Young Age</th>\n",
              "    </tr>\n",
              "  </thead>\n",
              "  <tbody>\n",
              "    <tr>\n",
              "      <th>247</th>\n",
              "      <td>-0.986754</td>\n",
              "      <td>1.892589</td>\n",
              "      <td>1.521894</td>\n",
              "      <td>-0.229416</td>\n",
              "      <td>1.763403</td>\n",
              "      <td>-0.546536</td>\n",
              "    </tr>\n",
              "    <tr>\n",
              "      <th>110</th>\n",
              "      <td>-0.986754</td>\n",
              "      <td>0.125038</td>\n",
              "      <td>0.032132</td>\n",
              "      <td>-0.229416</td>\n",
              "      <td>-0.567085</td>\n",
              "      <td>-0.546536</td>\n",
              "    </tr>\n",
              "    <tr>\n",
              "      <th>16</th>\n",
              "      <td>1.013423</td>\n",
              "      <td>0.910616</td>\n",
              "      <td>-1.311575</td>\n",
              "      <td>-0.229416</td>\n",
              "      <td>1.763403</td>\n",
              "      <td>-0.546536</td>\n",
              "    </tr>\n",
              "    <tr>\n",
              "      <th>66</th>\n",
              "      <td>1.013423</td>\n",
              "      <td>-1.347922</td>\n",
              "      <td>-1.486841</td>\n",
              "      <td>-0.229416</td>\n",
              "      <td>-0.567085</td>\n",
              "      <td>1.829707</td>\n",
              "    </tr>\n",
              "    <tr>\n",
              "      <th>153</th>\n",
              "      <td>-0.986754</td>\n",
              "      <td>-0.169554</td>\n",
              "      <td>-0.581299</td>\n",
              "      <td>-0.229416</td>\n",
              "      <td>-0.567085</td>\n",
              "      <td>-0.546536</td>\n",
              "    </tr>\n",
              "    <tr>\n",
              "      <th>...</th>\n",
              "      <td>...</td>\n",
              "      <td>...</td>\n",
              "      <td>...</td>\n",
              "      <td>...</td>\n",
              "      <td>...</td>\n",
              "      <td>...</td>\n",
              "    </tr>\n",
              "    <tr>\n",
              "      <th>71</th>\n",
              "      <td>-0.986754</td>\n",
              "      <td>-1.347922</td>\n",
              "      <td>-1.253153</td>\n",
              "      <td>-0.229416</td>\n",
              "      <td>-0.567085</td>\n",
              "      <td>1.829707</td>\n",
              "    </tr>\n",
              "    <tr>\n",
              "      <th>106</th>\n",
              "      <td>-0.986754</td>\n",
              "      <td>-1.151527</td>\n",
              "      <td>-1.019465</td>\n",
              "      <td>-0.229416</td>\n",
              "      <td>-0.567085</td>\n",
              "      <td>1.829707</td>\n",
              "    </tr>\n",
              "    <tr>\n",
              "      <th>270</th>\n",
              "      <td>-0.986754</td>\n",
              "      <td>0.517827</td>\n",
              "      <td>1.843215</td>\n",
              "      <td>-0.229416</td>\n",
              "      <td>-0.567085</td>\n",
              "      <td>-0.546536</td>\n",
              "    </tr>\n",
              "    <tr>\n",
              "      <th>348</th>\n",
              "      <td>1.013423</td>\n",
              "      <td>0.125038</td>\n",
              "      <td>0.207398</td>\n",
              "      <td>-0.229416</td>\n",
              "      <td>-0.567085</td>\n",
              "      <td>-0.546536</td>\n",
              "    </tr>\n",
              "    <tr>\n",
              "      <th>102</th>\n",
              "      <td>-0.986754</td>\n",
              "      <td>-0.562343</td>\n",
              "      <td>0.470297</td>\n",
              "      <td>-0.229416</td>\n",
              "      <td>-0.567085</td>\n",
              "      <td>-0.546536</td>\n",
              "    </tr>\n",
              "  </tbody>\n",
              "</table>\n",
              "<p>300 rows × 6 columns</p>\n",
              "</div>"
            ],
            "text/plain": [
              "       Gender       Age  EstimatedSalary  High Income   Old Age  Young Age\n",
              "247 -0.986754  1.892589         1.521894    -0.229416  1.763403  -0.546536\n",
              "110 -0.986754  0.125038         0.032132    -0.229416 -0.567085  -0.546536\n",
              "16   1.013423  0.910616        -1.311575    -0.229416  1.763403  -0.546536\n",
              "66   1.013423 -1.347922        -1.486841    -0.229416 -0.567085   1.829707\n",
              "153 -0.986754 -0.169554        -0.581299    -0.229416 -0.567085  -0.546536\n",
              "..        ...       ...              ...          ...       ...        ...\n",
              "71  -0.986754 -1.347922        -1.253153    -0.229416 -0.567085   1.829707\n",
              "106 -0.986754 -1.151527        -1.019465    -0.229416 -0.567085   1.829707\n",
              "270 -0.986754  0.517827         1.843215    -0.229416 -0.567085  -0.546536\n",
              "348  1.013423  0.125038         0.207398    -0.229416 -0.567085  -0.546536\n",
              "102 -0.986754 -0.562343         0.470297    -0.229416 -0.567085  -0.546536\n",
              "\n",
              "[300 rows x 6 columns]"
            ]
          },
          "metadata": {
            "tags": []
          },
          "execution_count": 48
        }
      ]
    },
    {
      "cell_type": "code",
      "metadata": {
        "id": "7RfPhpQwDtIw"
      },
      "source": [
        "model_1 = LogisticRegression()\n",
        "model_1 = model_1.fit(X_train, y_train)"
      ],
      "execution_count": 49,
      "outputs": []
    },
    {
      "cell_type": "code",
      "metadata": {
        "colab": {
          "base_uri": "https://localhost:8080/"
        },
        "id": "kLT0iQTRD748",
        "outputId": "dc48abd8-5ce4-45e3-830c-306bcca8817b"
      },
      "source": [
        "model_1.score(X_test, y_test)"
      ],
      "execution_count": 50,
      "outputs": [
        {
          "output_type": "execute_result",
          "data": {
            "text/plain": [
              "0.93"
            ]
          },
          "metadata": {
            "tags": []
          },
          "execution_count": 50
        }
      ]
    },
    {
      "cell_type": "code",
      "metadata": {
        "id": "yge-NHQbD-lq"
      },
      "source": [
        ""
      ],
      "execution_count": null,
      "outputs": []
    }
  ]
}